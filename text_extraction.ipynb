{
 "cells": [
  {
   "cell_type": "code",
   "execution_count": 34,
   "metadata": {},
   "outputs": [
    {
     "name": "stdout",
     "output_type": "stream",
     "text": [
      "Requirement already satisfied: PyPDF2 in /Users/wgraham/.pyenv/versions/3.9.13/lib/python3.9/site-packages (3.0.1)\n",
      "Requirement already satisfied: textract in /Users/wgraham/.pyenv/versions/3.9.13/lib/python3.9/site-packages (1.6.5)\n",
      "Requirement already satisfied: regex in /Users/wgraham/.pyenv/versions/3.9.13/lib/python3.9/site-packages (2022.10.31)\n",
      "Requirement already satisfied: pandas in /Users/wgraham/.pyenv/versions/3.9.13/lib/python3.9/site-packages (1.4.3)\n",
      "Requirement already satisfied: numpy in /Users/wgraham/.pyenv/versions/3.9.13/lib/python3.9/site-packages (1.23.1)\n",
      "Requirement already satisfied: spacy in /Users/wgraham/.pyenv/versions/3.9.13/lib/python3.9/site-packages (3.5.0)\n",
      "Collecting yake\n",
      "  Downloading yake-0.4.8-py2.py3-none-any.whl (60 kB)\n",
      "\u001b[2K     \u001b[38;2;114;156;31m━━━━━━━━━━━━━━━━━━━━━━━━━━━━━━━━━━━━━━━━\u001b[0m \u001b[32m60.2/60.2 kB\u001b[0m \u001b[31m2.1 MB/s\u001b[0m eta \u001b[36m0:00:00\u001b[0m\n",
      "\u001b[?25hRequirement already satisfied: typing_extensions>=3.10.0.0 in /Users/wgraham/.pyenv/versions/3.9.13/lib/python3.9/site-packages (from PyPDF2) (4.4.0)\n",
      "Requirement already satisfied: six~=1.12.0 in /Users/wgraham/.pyenv/versions/3.9.13/lib/python3.9/site-packages (from textract) (1.12.0)\n",
      "Requirement already satisfied: argcomplete~=1.10.0 in /Users/wgraham/.pyenv/versions/3.9.13/lib/python3.9/site-packages (from textract) (1.10.3)\n",
      "Requirement already satisfied: SpeechRecognition~=3.8.1 in /Users/wgraham/.pyenv/versions/3.9.13/lib/python3.9/site-packages (from textract) (3.8.1)\n",
      "Requirement already satisfied: chardet==3.* in /Users/wgraham/.pyenv/versions/3.9.13/lib/python3.9/site-packages (from textract) (3.0.4)\n",
      "Requirement already satisfied: extract-msg<=0.29.* in /Users/wgraham/.pyenv/versions/3.9.13/lib/python3.9/site-packages (from textract) (0.28.7)\n",
      "Requirement already satisfied: beautifulsoup4~=4.8.0 in /Users/wgraham/.pyenv/versions/3.9.13/lib/python3.9/site-packages (from textract) (4.8.2)\n",
      "Requirement already satisfied: docx2txt~=0.8 in /Users/wgraham/.pyenv/versions/3.9.13/lib/python3.9/site-packages (from textract) (0.8)\n",
      "Requirement already satisfied: python-pptx~=0.6.18 in /Users/wgraham/.pyenv/versions/3.9.13/lib/python3.9/site-packages (from textract) (0.6.21)\n",
      "Requirement already satisfied: xlrd~=1.2.0 in /Users/wgraham/.pyenv/versions/3.9.13/lib/python3.9/site-packages (from textract) (1.2.0)\n",
      "Requirement already satisfied: pdfminer.six==20191110 in /Users/wgraham/.pyenv/versions/3.9.13/lib/python3.9/site-packages (from textract) (20191110)\n",
      "Requirement already satisfied: sortedcontainers in /Users/wgraham/.pyenv/versions/3.9.13/lib/python3.9/site-packages (from pdfminer.six==20191110->textract) (2.4.0)\n",
      "Requirement already satisfied: pycryptodome in /Users/wgraham/.pyenv/versions/3.9.13/lib/python3.9/site-packages (from pdfminer.six==20191110->textract) (3.17)\n",
      "Requirement already satisfied: python-dateutil>=2.8.1 in /Users/wgraham/.pyenv/versions/3.9.13/lib/python3.9/site-packages (from pandas) (2.8.2)\n",
      "Requirement already satisfied: pytz>=2020.1 in /Users/wgraham/.pyenv/versions/3.9.13/lib/python3.9/site-packages (from pandas) (2022.1)\n",
      "Requirement already satisfied: typer<0.8.0,>=0.3.0 in /Users/wgraham/.pyenv/versions/3.9.13/lib/python3.9/site-packages (from spacy) (0.7.0)\n",
      "Requirement already satisfied: cymem<2.1.0,>=2.0.2 in /Users/wgraham/.pyenv/versions/3.9.13/lib/python3.9/site-packages (from spacy) (2.0.7)\n",
      "Requirement already satisfied: preshed<3.1.0,>=3.0.2 in /Users/wgraham/.pyenv/versions/3.9.13/lib/python3.9/site-packages (from spacy) (3.0.8)\n",
      "Requirement already satisfied: tqdm<5.0.0,>=4.38.0 in /Users/wgraham/.pyenv/versions/3.9.13/lib/python3.9/site-packages (from spacy) (4.64.1)\n",
      "Requirement already satisfied: wasabi<1.2.0,>=0.9.1 in /Users/wgraham/.pyenv/versions/3.9.13/lib/python3.9/site-packages (from spacy) (1.1.1)\n",
      "Requirement already satisfied: pydantic!=1.8,!=1.8.1,<1.11.0,>=1.7.4 in /Users/wgraham/.pyenv/versions/3.9.13/lib/python3.9/site-packages (from spacy) (1.10.4)\n",
      "Requirement already satisfied: thinc<8.2.0,>=8.1.0 in /Users/wgraham/.pyenv/versions/3.9.13/lib/python3.9/site-packages (from spacy) (8.1.7)\n",
      "Requirement already satisfied: requests<3.0.0,>=2.13.0 in /Users/wgraham/.pyenv/versions/3.9.13/lib/python3.9/site-packages (from spacy) (2.28.1)\n",
      "Requirement already satisfied: catalogue<2.1.0,>=2.0.6 in /Users/wgraham/.pyenv/versions/3.9.13/lib/python3.9/site-packages (from spacy) (2.0.8)\n",
      "Requirement already satisfied: smart-open<7.0.0,>=5.2.1 in /Users/wgraham/.pyenv/versions/3.9.13/lib/python3.9/site-packages (from spacy) (6.3.0)\n",
      "Requirement already satisfied: spacy-legacy<3.1.0,>=3.0.11 in /Users/wgraham/.pyenv/versions/3.9.13/lib/python3.9/site-packages (from spacy) (3.0.12)\n",
      "Requirement already satisfied: packaging>=20.0 in /Users/wgraham/.local/lib/python3.9/site-packages (from spacy) (21.3)\n",
      "Requirement already satisfied: setuptools in /Users/wgraham/.pyenv/versions/3.9.13/lib/python3.9/site-packages (from spacy) (58.1.0)\n",
      "Requirement already satisfied: murmurhash<1.1.0,>=0.28.0 in /Users/wgraham/.pyenv/versions/3.9.13/lib/python3.9/site-packages (from spacy) (1.0.9)\n",
      "Requirement already satisfied: spacy-loggers<2.0.0,>=1.0.0 in /Users/wgraham/.pyenv/versions/3.9.13/lib/python3.9/site-packages (from spacy) (1.0.4)\n",
      "Requirement already satisfied: langcodes<4.0.0,>=3.2.0 in /Users/wgraham/.pyenv/versions/3.9.13/lib/python3.9/site-packages (from spacy) (3.3.0)\n",
      "Requirement already satisfied: jinja2 in /Users/wgraham/.local/lib/python3.9/site-packages (from spacy) (3.1.2)\n",
      "Requirement already satisfied: srsly<3.0.0,>=2.4.3 in /Users/wgraham/.pyenv/versions/3.9.13/lib/python3.9/site-packages (from spacy) (2.4.5)\n",
      "Requirement already satisfied: pathy>=0.10.0 in /Users/wgraham/.pyenv/versions/3.9.13/lib/python3.9/site-packages (from spacy) (0.10.1)\n",
      "Collecting segtok\n",
      "  Downloading segtok-1.5.11-py3-none-any.whl (24 kB)\n",
      "Requirement already satisfied: networkx in /Users/wgraham/.pyenv/versions/3.9.13/lib/python3.9/site-packages (from yake) (2.8.8)\n",
      "Collecting jellyfish\n",
      "  Downloading jellyfish-0.9.0.tar.gz (132 kB)\n",
      "\u001b[2K     \u001b[38;2;114;156;31m━━━━━━━━━━━━━━━━━━━━━━━━━━━━━━━━━━━━━━━\u001b[0m \u001b[32m132.6/132.6 kB\u001b[0m \u001b[31m4.8 MB/s\u001b[0m eta \u001b[36m0:00:00\u001b[0m\n",
      "\u001b[?25h  Preparing metadata (setup.py) ... \u001b[?25ldone\n",
      "\u001b[?25hRequirement already satisfied: tabulate in /Users/wgraham/.pyenv/versions/3.9.13/lib/python3.9/site-packages (from yake) (0.9.0)\n",
      "Requirement already satisfied: click>=6.0 in /Users/wgraham/.pyenv/versions/3.9.13/lib/python3.9/site-packages (from yake) (8.1.3)\n",
      "Requirement already satisfied: soupsieve>=1.2 in /Users/wgraham/.pyenv/versions/3.9.13/lib/python3.9/site-packages (from beautifulsoup4~=4.8.0->textract) (2.3.2.post1)\n",
      "Requirement already satisfied: imapclient==2.1.0 in /Users/wgraham/.pyenv/versions/3.9.13/lib/python3.9/site-packages (from extract-msg<=0.29.*->textract) (2.1.0)\n",
      "Requirement already satisfied: tzlocal>=2.1 in /Users/wgraham/.pyenv/versions/3.9.13/lib/python3.9/site-packages (from extract-msg<=0.29.*->textract) (4.2)\n",
      "Requirement already satisfied: ebcdic>=1.1.1 in /Users/wgraham/.pyenv/versions/3.9.13/lib/python3.9/site-packages (from extract-msg<=0.29.*->textract) (1.1.1)\n",
      "Requirement already satisfied: olefile>=0.46 in /Users/wgraham/.pyenv/versions/3.9.13/lib/python3.9/site-packages (from extract-msg<=0.29.*->textract) (0.46)\n",
      "Requirement already satisfied: compressed-rtf>=1.0.6 in /Users/wgraham/.pyenv/versions/3.9.13/lib/python3.9/site-packages (from extract-msg<=0.29.*->textract) (1.0.6)\n",
      "Requirement already satisfied: pyparsing!=3.0.5,>=2.0.2 in /Users/wgraham/.local/lib/python3.9/site-packages (from packaging>=20.0->spacy) (3.0.9)\n",
      "Requirement already satisfied: lxml>=3.1.0 in /Users/wgraham/.pyenv/versions/3.9.13/lib/python3.9/site-packages (from python-pptx~=0.6.18->textract) (4.9.1)\n",
      "Requirement already satisfied: Pillow>=3.3.2 in /Users/wgraham/.pyenv/versions/3.9.13/lib/python3.9/site-packages (from python-pptx~=0.6.18->textract) (9.3.0)\n",
      "Requirement already satisfied: XlsxWriter>=0.5.7 in /Users/wgraham/.pyenv/versions/3.9.13/lib/python3.9/site-packages (from python-pptx~=0.6.18->textract) (3.0.8)\n",
      "Requirement already satisfied: urllib3<1.27,>=1.21.1 in /Users/wgraham/.pyenv/versions/3.9.13/lib/python3.9/site-packages (from requests<3.0.0,>=2.13.0->spacy) (1.26.12)\n",
      "Requirement already satisfied: charset-normalizer<3,>=2 in /Users/wgraham/.pyenv/versions/3.9.13/lib/python3.9/site-packages (from requests<3.0.0,>=2.13.0->spacy) (2.1.1)\n",
      "Requirement already satisfied: idna<4,>=2.5 in /Users/wgraham/.pyenv/versions/3.9.13/lib/python3.9/site-packages (from requests<3.0.0,>=2.13.0->spacy) (3.4)\n",
      "Requirement already satisfied: certifi>=2017.4.17 in /Users/wgraham/.pyenv/versions/3.9.13/lib/python3.9/site-packages (from requests<3.0.0,>=2.13.0->spacy) (2022.9.24)\n",
      "Requirement already satisfied: blis<0.8.0,>=0.7.8 in /Users/wgraham/.pyenv/versions/3.9.13/lib/python3.9/site-packages (from thinc<8.2.0,>=8.1.0->spacy) (0.7.9)\n",
      "Requirement already satisfied: confection<1.0.0,>=0.0.1 in /Users/wgraham/.pyenv/versions/3.9.13/lib/python3.9/site-packages (from thinc<8.2.0,>=8.1.0->spacy) (0.0.4)\n",
      "Requirement already satisfied: MarkupSafe>=2.0 in /Users/wgraham/.local/lib/python3.9/site-packages (from jinja2->spacy) (2.1.1)\n",
      "Requirement already satisfied: pytz-deprecation-shim in /Users/wgraham/.pyenv/versions/3.9.13/lib/python3.9/site-packages (from tzlocal>=2.1->extract-msg<=0.29.*->textract) (0.1.0.post0)\n",
      "Requirement already satisfied: tzdata in /Users/wgraham/.pyenv/versions/3.9.13/lib/python3.9/site-packages (from pytz-deprecation-shim->tzlocal>=2.1->extract-msg<=0.29.*->textract) (2022.7)\n",
      "Installing collected packages: segtok, jellyfish, yake\n",
      "\u001b[33m  DEPRECATION: jellyfish is being installed using the legacy 'setup.py install' method, because it does not have a 'pyproject.toml' and the 'wheel' package is not installed. pip 23.1 will enforce this behaviour change. A possible replacement is to enable the '--use-pep517' option. Discussion can be found at https://github.com/pypa/pip/issues/8559\u001b[0m\u001b[33m\n",
      "\u001b[0m  Running setup.py install for jellyfish ... \u001b[?25ldone\n",
      "\u001b[?25hSuccessfully installed jellyfish-0.9.0 segtok-1.5.11 yake-0.4.8\n"
     ]
    }
   ],
   "source": [
    "!pip install PyPDF2 textract regex pandas numpy spacy yake"
   ]
  },
  {
   "cell_type": "code",
   "execution_count": 35,
   "metadata": {},
   "outputs": [
    {
     "name": "stdout",
     "output_type": "stream",
     "text": [
      "('Jeff Rothenberg Page', 0.0002767795925910115)\n",
      "('Digital Information', 0.0006310135454466098)\n",
      "('bit stream', 0.0006321589378857069)\n",
      "('Digital documents', 0.0006942415912132595)\n",
      "('Ensuring the Longevity', 0.0010865622922098964)\n",
      "('Jeff Rothenberg', 0.0011992485104355684)\n",
      "('Digital', 0.00143624908928796)\n",
      "('Rothenberg Page', 0.0016065372027652697)\n",
      "('Longevity of Digital', 0.001886330569794857)\n",
      "('Information', 0.002243852646087191)\n",
      "('bit', 0.002303303892746189)\n",
      "('documents', 0.0032554921533171923)\n",
      "('stream', 0.0033036988987293547)\n",
      "('document', 0.004464674953120721)\n",
      "('Longevity', 0.00546908315870501)\n",
      "('bits', 0.005950201722927655)\n",
      "('original bit stream', 0.006006603315816842)\n",
      "('intended bit stream', 0.006674987109011539)\n",
      "('Jeff', 0.0068391852455241126)\n",
      "('Ensuring', 0.006991908846626)\n"
     ]
    }
   ],
   "source": [
    "import yake\n",
    "max_ngram_size = 3\n",
    "deduplication_threshold = 0.9\n",
    "numOfKeywords = 20\n",
    "custom_kw_extractor = yake.KeywordExtractor(lan='en', n=max_ngram_size, dedupLim=deduplication_threshold, top=numOfKeywords, features=None)\n",
    "\n",
    "keywords = custom_kw_extractor.extract_keywords(text)\n",
    "\n",
    "for kw in keywords:\n",
    "    print(kw)"
   ]
  },
  {
   "cell_type": "code",
   "execution_count": 15,
   "metadata": {},
   "outputs": [],
   "source": [
    "\n",
    "import PyPDF2\n",
    "import textract\n",
    "import re"
   ]
  },
  {
   "cell_type": "code",
   "execution_count": 16,
   "metadata": {},
   "outputs": [
    {
     "name": "stdout",
     "output_type": "stream",
     "text": [
      "19\n"
     ]
    }
   ],
   "source": [
    "from PyPDF2 import PdfReader\n",
    "\n",
    "filename = 'pdfs/ensuring.pdf'\n",
    "reader = PdfReader(filename)\n",
    "number_of_pages = len(reader.pages)\n",
    "# page = reader.pages[0]\n",
    "# text = page.extract_text()\n",
    "print(number_of_pages)"
   ]
  },
  {
   "cell_type": "code",
   "execution_count": 17,
   "metadata": {},
   "outputs": [],
   "source": [
    "count = 0\n",
    "text = \"\"\n",
    "\n",
    "while count < number_of_pages:\n",
    "    page = reader.pages[count]\n",
    "    text += page.extract_text()\n",
    "    count += 1\n"
   ]
  },
  {
   "cell_type": "code",
   "execution_count": 19,
   "metadata": {},
   "outputs": [],
   "source": [
    "import spacy\n",
    "from collections import Counter\n",
    "from string import punctuation"
   ]
  },
  {
   "cell_type": "code",
   "execution_count": 20,
   "metadata": {},
   "outputs": [],
   "source": [
    "nlp = spacy.load('en_core_web_lg')"
   ]
  },
  {
   "cell_type": "code",
   "execution_count": 33,
   "metadata": {},
   "outputs": [
    {
     "name": "stdout",
     "output_type": "stream",
     "text": [
      "(980327, Jeff RothenbergEnsuring, Longevity of Digital Information, Jeff Rothenberg, RAND, 1700, Main Street, Santa Monica, CA 90407, February 22, 1999, Digital, Ensuring the Longevity of Digital Documents, January 1995, Scientiﬁc, American, 272, Number 1, 42-7, http://www.clir.org/programs/otheractiv/ensuring.pdfrev, 980327, Jeff Rothenberg Page, 1, 18Ensuring, the Longevity of Digital Information, Jeff Rothenberg, February 22, 1999, Ensuring the Longevity of Digital Documents, January 1995, Scientiﬁc, American, 272, Number 1, 42-7, The year, 2045, unbought, ﬁnd, 1995, ﬁnd, ifnotofwritingitself, Thecurrentgenerationofdigitalrecordsthereforehas, signiﬁcance, scientiﬁcdatabases, One, U.S. Census, 1960, 1990, Nov.\n",
      "6, 1990, House, 101, includehundreds, the Department of Health and Human Services, ﬁles, theNational Commission, Marijuana and Drug Abuse, the Public Land Law Review Commission, Commission on School Finance, the National Commission, ConsumerFinance, the Combat Area Casualty, POW, MIA, Orange, NASA, andirreplaceable, 980327, Jeff Rothenberg Page, 2, 18copythemtonewermedia, reﬂect, First, English, hundreds of years, 1, 2, The past few decades, Digital, 0s, agiven, Abit, 3, 980327, Jeff Rothenberg Page, 3, 18SHall, Summers, Maie, Sommers, Sommer, 1, Shakespeare, 18, Shakespeare, 18th, ﬁle, ﬁnd, 5-59 years, yearsdigital, 2-30 years, 5, yearsmagnetic, 5-10 years 5, yearsThere, 200 years, a year, two, no more than 5 years, 2, 980327, Jeff Rothenberg Page, 4, 4].How, 1, The Rosetta Stone, digital mediaColor, Jeff RothenbergThe, 1/3, the Rosetta Stone, Egypt, 1799, the 4th century AD, second, the 5th century AD, Egyptian, over 13 centuries, Greek, the Rosetta Stone, Egyptian, the British Museum, 196, BC, Greek, Ptolemy, one, Alexander, theuseofGreekinthisofﬁcialdocument.)Inadditiontobeingquitelegibleafternearly22centuries, oneofwhich, beingGreek, mightprovidethekeytodecipheringthelostEgyptianscripts)wasvisually, French, Pierre Francois Xavier Bouchard, 1/100th, the Rosetta Stone.rev, 980327, Jeff Rothenberg Page, 5, monthly, informationin, followedbyachecknumber, 0, 1, 04059400000000005000000000050000, 4/5/94 deposit $500.00 $500.004/26/94, # 314 $, 400.004/27/94, 50.00, 350.00, 6, mmddyy, 4, 0000, 11, 04059400000000005000000000050000042694031400000, 3, 980327, Jeff Rothenberg Page, 6, 18The 8, 0101110000000010101 00000000100000111101110“21”“U, yeslogical bitmapbit, 4, 6, 8, 000101byte-lengthsample byte, 6, 0-63, 00000101 8, 5, 980327, Jeff Rothenberg Page, 7, byone, 7, Yetthisleadstoaproblemsimilartothatofencodingakeytospecifythelength, bitstreamitself, 7, 7, 7, ﬁrst, 5, key(instead, 4, 15 bits long.{Intended, 4, 0111, 7, 5, 01111, 15, 6, 980327, Jeff Rothenberg Page, 8, Digital, inwhichpagenumbersareusedaspointers, 8, 0s, 000, 1s, Thiscan, 5, speciﬁes, 0s, 1s, 4, up to, 15 bits, 0s, 1s, 000000111111111111110000000000000111111111, 6, 14, 0:6, 1:14, 0:13, 1:9, 00110, 11110, 01101, 11001, 5, 0, 1, 00110111100110111001, 20, 7, 980327, Jeff Rothenberg Page, 9, bythesoftwarethatcreatedthem, 8, ﬁle, 002, ptr1, 1.1, 1.2, Byte, 15, Subsection 1.1 Subsection, Hypertext, agiven, streameven, Section 2\n",
      "Subsection 2.1|| | | || ||rev, 980327, Jeff Rothenberg Page, 10, ﬁle, ﬁle, morecomplex, ﬁle, Digital, itnecessary, similarprogram, ﬁle, lattermay, today, whetherornotit, one, 980327, Jeff Rothenberg Page, 11, ﬁle, stillﬁnd, Rosetta Stone, ﬁrst, every few years, one, two, translation cancompletely, 980327, Jeff Rothenberg Page, 12, 18archaeologist, three, the Rosetta Stone, English, E.F. Codd, the 1970s, underlyingmodel, two, First, Procrustean, therelationalmodelisrapidlygivingwaytoanobject-orienteddatabasemodel(which, wellbecome, Noothertypeofdigitaldocumentcomesclosetohavingasformalabasison, 980327, Jeff Rothenberg Page, 13, one, two, wherethese, Homer, Greek, English, notalways, Olddocuments, translatingbackward, Manyearlier, justas, ﬁeld, theinformation technology revolution, whenrev, 980327, Jeff Rothenberg Page, 14, 18information, theInternet, sinceprogramsandtheirdataﬁlescanbecorruptedbytheslightestchange, anytransformation, the “Year 2000, two, foreseen.rev, 980327, Jeff Rothenberg Page, 15, withoutloss, Wemuststillshowhowwecanpreservethehardwareneededtorunthesoftwaretoviewadigital, diskdrives, One, anygiven, Fifty, wouldrequire, vintage-1960, forobsolete, ﬁrst, the six years, Obsoleteprograms, 980327, Jeff Rothenberg Page, 16, 18digitizing, thousands, ourdocuments, torun, savethese, one, annotationsin, 9.rev, 980327, Jeff Rothenberg Page, 17, 18Conclusion, year-old, HW’(migrated, media intactdrives +, HW emulatorOS’, 9, 980327, Jeff Rothenberg Page, 18, 18Short, Archival Management of Electronic Records, Archives and Museum Informatics Technical\n",
      "Report, 13, David Bearman, ed., Archives and Museum Informatics, Pittsburgh, 1991, ISSN1042-1459, Text and Technology, Jay David Bolter, Library\n",
      "Resources and Technical Services, 31, January/March 1987, 12-23, Understanding Electronic Incunabula: A Framework for Research on Electronic Records, Margaret Hedstrom, American, 54:3, Summer 1991, 334, Scholarly Communication and Information Technology, Research Process on Archives, Avra Michelson, Jeff Rothenberg, American, 55:2, Spring 1992, 236, the National Historical Publications, Records Commission, Washington, D.C., the Minnesota Historical Society, St. Paul, Minn.1991, Ensuring the Longevity of Digital Documents, Jeff Rothenberg, Scientiﬁc American, January\n",
      "1995, 272, 24, Metadata to Support Data Quality and Longevity, The First IEEE Metadata Conference, April\n",
      ", 16-18, 1996, NOAA Auditorium, NOAA Complex, Silver Spring, MD, athttp://www.computer.org/conferen/meta96/rothenberg_paper/ieee.data-quality.html, U.S. House of Representatives Committee on Government Operations, Nov. 6. 1990, HouseReport, 101-978)\n"
     ]
    }
   ],
   "source": [
    "doc = nlp(text)\n",
    "print(doc.ents)\n"
   ]
  },
  {
   "cell_type": "code",
   "execution_count": null,
   "metadata": {},
   "outputs": [],
   "source": [
    "import yake"
   ]
  },
  {
   "cell_type": "code",
   "execution_count": 21,
   "metadata": {},
   "outputs": [],
   "source": [
    "def get_hotwords(text):\n",
    "    result = []\n",
    "    pos_tag = ['PROPN', 'ADJ', 'NOUN'] # 1\n",
    "    doc = nlp(text.lower()) # 2\n",
    "    for token in doc:\n",
    "        # 3\n",
    "        if(token.text in nlp.Defaults.stop_words or token.text in punctuation):\n",
    "            continue\n",
    "        # 4\n",
    "        if(token.pos_ in pos_tag):\n",
    "            result.append(token.text)\n",
    "                \n",
    "    return result # 5"
   ]
  },
  {
   "cell_type": "code",
   "execution_count": 25,
   "metadata": {},
   "outputs": [],
   "source": [
    "output = set(get_hotwords(text))"
   ]
  },
  {
   "cell_type": "code",
   "execution_count": 26,
   "metadata": {},
   "outputs": [
    {
     "ename": "ValueError",
     "evalue": "[E002] Can't find factory for 'textrank' for language English (en). This usually happens when spaCy calls `nlp.create_pipe` with a custom component name that's not registered on the current language class. If you're using a Transformer, make sure to install 'spacy-transformers'. If you're using a custom component, make sure you've added the decorator `@Language.component` (for function components) or `@Language.factory` (for class components).\n\nAvailable factories: attribute_ruler, tok2vec, merge_noun_chunks, merge_entities, merge_subtokens, token_splitter, doc_cleaner, parser, beam_parser, lemmatizer, trainable_lemmatizer, entity_linker, ner, beam_ner, entity_ruler, tagger, morphologizer, senter, sentencizer, textcat, spancat, future_entity_ruler, span_ruler, textcat_multilabel, en.lemmatizer",
     "output_type": "error",
     "traceback": [
      "\u001b[0;31m---------------------------------------------------------------------------\u001b[0m",
      "\u001b[0;31mValueError\u001b[0m                                Traceback (most recent call last)",
      "Cell \u001b[0;32mIn [26], line 1\u001b[0m\n\u001b[0;32m----> 1\u001b[0m nlp\u001b[39m.\u001b[39;49madd_pipe(\u001b[39m\"\u001b[39;49m\u001b[39mtextrank\u001b[39;49m\u001b[39m\"\u001b[39;49m)\n",
      "File \u001b[0;32m~/.pyenv/versions/3.9.13/lib/python3.9/site-packages/spacy/language.py:786\u001b[0m, in \u001b[0;36mLanguage.add_pipe\u001b[0;34m(self, factory_name, name, before, after, first, last, source, config, raw_config, validate)\u001b[0m\n\u001b[1;32m    782\u001b[0m     pipe_component, factory_name \u001b[39m=\u001b[39m \u001b[39mself\u001b[39m\u001b[39m.\u001b[39mcreate_pipe_from_source(\n\u001b[1;32m    783\u001b[0m         factory_name, source, name\u001b[39m=\u001b[39mname\n\u001b[1;32m    784\u001b[0m     )\n\u001b[1;32m    785\u001b[0m \u001b[39melse\u001b[39;00m:\n\u001b[0;32m--> 786\u001b[0m     pipe_component \u001b[39m=\u001b[39m \u001b[39mself\u001b[39;49m\u001b[39m.\u001b[39;49mcreate_pipe(\n\u001b[1;32m    787\u001b[0m         factory_name,\n\u001b[1;32m    788\u001b[0m         name\u001b[39m=\u001b[39;49mname,\n\u001b[1;32m    789\u001b[0m         config\u001b[39m=\u001b[39;49mconfig,\n\u001b[1;32m    790\u001b[0m         raw_config\u001b[39m=\u001b[39;49mraw_config,\n\u001b[1;32m    791\u001b[0m         validate\u001b[39m=\u001b[39;49mvalidate,\n\u001b[1;32m    792\u001b[0m     )\n\u001b[1;32m    793\u001b[0m pipe_index \u001b[39m=\u001b[39m \u001b[39mself\u001b[39m\u001b[39m.\u001b[39m_get_pipe_index(before, after, first, last)\n\u001b[1;32m    794\u001b[0m \u001b[39mself\u001b[39m\u001b[39m.\u001b[39m_pipe_meta[name] \u001b[39m=\u001b[39m \u001b[39mself\u001b[39m\u001b[39m.\u001b[39mget_factory_meta(factory_name)\n",
      "File \u001b[0;32m~/.pyenv/versions/3.9.13/lib/python3.9/site-packages/spacy/language.py:660\u001b[0m, in \u001b[0;36mLanguage.create_pipe\u001b[0;34m(self, factory_name, name, config, raw_config, validate)\u001b[0m\n\u001b[1;32m    652\u001b[0m \u001b[39mif\u001b[39;00m \u001b[39mnot\u001b[39;00m \u001b[39mself\u001b[39m\u001b[39m.\u001b[39mhas_factory(factory_name):\n\u001b[1;32m    653\u001b[0m     err \u001b[39m=\u001b[39m Errors\u001b[39m.\u001b[39mE002\u001b[39m.\u001b[39mformat(\n\u001b[1;32m    654\u001b[0m         name\u001b[39m=\u001b[39mfactory_name,\n\u001b[1;32m    655\u001b[0m         opts\u001b[39m=\u001b[39m\u001b[39m\"\u001b[39m\u001b[39m, \u001b[39m\u001b[39m\"\u001b[39m\u001b[39m.\u001b[39mjoin(\u001b[39mself\u001b[39m\u001b[39m.\u001b[39mfactory_names),\n\u001b[0;32m   (...)\u001b[0m\n\u001b[1;32m    658\u001b[0m         lang_code\u001b[39m=\u001b[39m\u001b[39mself\u001b[39m\u001b[39m.\u001b[39mlang,\n\u001b[1;32m    659\u001b[0m     )\n\u001b[0;32m--> 660\u001b[0m     \u001b[39mraise\u001b[39;00m \u001b[39mValueError\u001b[39;00m(err)\n\u001b[1;32m    661\u001b[0m pipe_meta \u001b[39m=\u001b[39m \u001b[39mself\u001b[39m\u001b[39m.\u001b[39mget_factory_meta(factory_name)\n\u001b[1;32m    662\u001b[0m \u001b[39m# This is unideal, but the alternative would mean you always need to\u001b[39;00m\n\u001b[1;32m    663\u001b[0m \u001b[39m# specify the full config settings, which is not really viable.\u001b[39;00m\n",
      "\u001b[0;31mValueError\u001b[0m: [E002] Can't find factory for 'textrank' for language English (en). This usually happens when spaCy calls `nlp.create_pipe` with a custom component name that's not registered on the current language class. If you're using a Transformer, make sure to install 'spacy-transformers'. If you're using a custom component, make sure you've added the decorator `@Language.component` (for function components) or `@Language.factory` (for class components).\n\nAvailable factories: attribute_ruler, tok2vec, merge_noun_chunks, merge_entities, merge_subtokens, token_splitter, doc_cleaner, parser, beam_parser, lemmatizer, trainable_lemmatizer, entity_linker, ner, beam_ner, entity_ruler, tagger, morphologizer, senter, sentencizer, textcat, spancat, future_entity_ruler, span_ruler, textcat_multilabel, en.lemmatizer"
     ]
    }
   ],
   "source": [
    "nlp.add_pipe(\"textrank\")\n"
   ]
  }
 ],
 "metadata": {
  "kernelspec": {
   "display_name": "Python 3",
   "language": "python",
   "name": "python3"
  },
  "language_info": {
   "codemirror_mode": {
    "name": "ipython",
    "version": 3
   },
   "file_extension": ".py",
   "mimetype": "text/x-python",
   "name": "python",
   "nbconvert_exporter": "python",
   "pygments_lexer": "ipython3",
   "version": "3.9.13"
  },
  "orig_nbformat": 4,
  "vscode": {
   "interpreter": {
    "hash": "687b123acf2842a17ca56e9a56ef1f6619a18eda0d120a25c170a5a59690d9ce"
   }
  }
 },
 "nbformat": 4,
 "nbformat_minor": 2
}
